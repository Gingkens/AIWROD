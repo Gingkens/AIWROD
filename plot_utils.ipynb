{
 "cells": [
  {
   "cell_type": "code",
   "execution_count": 5,
   "metadata": {
    "collapsed": true
   },
   "outputs": [],
   "source": [
    "import matplotlib.pyplot as plt\n",
    "import numpy as np\n",
    "from mpl_toolkits.mplot3d import Axes3D"
   ]
  },
  {
   "cell_type": "code",
   "execution_count": 2,
   "metadata": {
    "collapsed": true
   },
   "outputs": [],
   "source": [
    "data_power = {\n",
    "    '0':0,\n",
    "    '1':2,\n",
    "    '.':1,\n",
    "    '#':5\n",
    "}\n",
    "\n",
    "def read_data(filename):    \n",
    "    with open('data/'+filename) as f:\n",
    "        lines = f.readlines()\n",
    "        lines = map(lambda x:x.strip() , lines)\n",
    "        lines = list(lines)\n",
    "        data = map(lambda x:x.split() ,lines)\n",
    "        data = list(data)\n",
    "        data = np.array(data,dtype=list)\n",
    "        \n",
    "        return data[:,1].reshape(data.shape[0],1)"
   ]
  },
  {
   "cell_type": "code",
   "execution_count": 14,
   "metadata": {
    "collapsed": true
   },
   "outputs": [],
   "source": [
    "def plot_data(X,Y):\n",
    "    plt.scatter(X,Y)\n",
    "    plt.xlabel('X')\n",
    "    plt.ylabel('Y')\n",
    "    plt.show()\n",
    "\n",
    "def plot_learning_curve(J):\n",
    "    \n",
    "    plt.plot(np.arange(len(J)),J,label='Cost')\n",
    "    plt.xlabel('Iterations times')\n",
    "    plt.ylabel('Cost')\n",
    "    plt.legend(loc='upper right')\n",
    "    \n",
    "    plt.show()\n",
    "    \n",
    "def plot_3d(X,Y):\n",
    "    fig = plt.figure()\n",
    "    ax = fig.add_subplot(111, projection='3d')\n",
    "\n",
    "    color = np.random.randn(200)\n",
    "    for index,y in enumerate(Y):\n",
    "        if y == -1:\n",
    "            color = np.random.randn(200)  \n",
    "            continue\n",
    "        ax.scatter(X['X1'][index], X['X2'][index], y)\n",
    "    #ax.view_init(elev=0 ,azim=0)\n",
    "    ax.set_xlabel('X1')\n",
    "    ax.set_ylabel('X2')\n",
    "    ax.set_zlabel('Y')\n",
    "\n",
    "    plt.show()\n",
    "    \n",
    "    \n",
    "def compute_power(num,pos):\n",
    "    \n",
    "    return data_power[num]*np.power(3,pos)"
   ]
  },
  {
   "cell_type": "code",
   "execution_count": 15,
   "metadata": {
    "collapsed": true
   },
   "outputs": [],
   "source": [
    "def data_reprocess(datas):\n",
    "    X = []\n",
    "    Y = []\n",
    "    for data in datas:\n",
    "        for pos,x in enumerate(data[0][:-1]):\n",
    "            value = compute_power(x,pos)\n",
    "            X.append(value)\n",
    "            if pos != 0:\n",
    "                X[len(X)-1] += X[len(X)-2]\n",
    "            Y.append( data_power[data[0][pos+1]] )\n",
    "    X = np.array(X)\n",
    "    Y = np.array(Y)\n",
    "    return X.reshape(X.shape[0],1),Y.reshape(Y.shape[0],1)\n",
    "\n",
    "def data_reprocess2(datas):\n",
    "    X1 = []\n",
    "    X2 = []\n",
    "    Y = []\n",
    "    for data in datas:\n",
    "        for pos,x in enumerate(data[0][:-1]):\n",
    "            value = compute_power(x,pos)\n",
    "            X2.append( data_power[x] )\n",
    "            if pos != 0:\n",
    "                X1.append(X1[len(X1)-1] + X2[len(X2)-2])\n",
    "            else:\n",
    "                X1.append(np.int32(0))\n",
    "\n",
    "            Y.append( data_power[data[0][pos+1]] )\n",
    "        X1.append(0)\n",
    "        X2.append(0)\n",
    "        Y.append(-1)\n",
    "    X1 = np.array(X1)\n",
    "    X2 = np.array(X2)\n",
    "    Y = np.array(Y)\n",
    "    return X1.reshape(X1.shape[0],1),X2.reshape(X2.shape[0],1),Y.reshape(Y.shape[0],1)"
   ]
  },
  {
   "cell_type": "code",
   "execution_count": 16,
   "metadata": {},
   "outputs": [
    {
     "data": {
      "image/png": "[encoded data removed]",
      "text/plain": [
       "<matplotlib.figure.Figure at 0x922e4a8>"
      ]
     },
     "metadata": {},
     "output_type": "display_data"
    }
   ],
   "source": [
    "plot_learning_curve(np.arange(10))"
   ]
  }
 ],
 "metadata": {
  "kernelspec": {
   "display_name": "Python 3",
   "language": "python",
   "name": "python3"
  },
  "language_info": {
   "codemirror_mode": {
    "name": "ipython",
    "version": 3
   },
   "file_extension": ".py",
   "mimetype": "text/x-python",
   "name": "python",
   "nbconvert_exporter": "python",
   "pygments_lexer": "ipython3",
   "version": "3.6.3"
  }
 },
 "nbformat": 4,
 "nbformat_minor": 2
}
