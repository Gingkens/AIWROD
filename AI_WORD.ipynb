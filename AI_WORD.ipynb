{
 "cells": [
  {
   "cell_type": "code",
   "execution_count": 40,
   "metadata": {
    "collapsed": true
   },
   "outputs": [],
   "source": [
    "import numpy as np\n",
    "from gc_utils import *\n",
    "from plot_utils import *\n",
    "from datetime import datetime\n",
    "from sklearn.preprocessing import PolynomialFeatures"
   ]
  },
  {
   "cell_type": "code",
   "execution_count": 41,
   "metadata": {
    "collapsed": true
   },
   "outputs": [],
   "source": [
    "def initialization(X,Y,hidden_layers,hidden_size):\n",
    "    params ={}\n",
    "    models = {}\n",
    "    models['W1'] = np.random.randn( hidden_size[0],X.shape[1] + 1 )\n",
    "    for i in range(2,hidden_layers+2):\n",
    "        models['W'+str(i)] = np.random.randn( hidden_size[i-1] , models['W'+str(i-1)].shape[0] + 1 )\n",
    "    \n",
    "    params['X'] = X\n",
    "    params['Y'] = Y\n",
    "    \n",
    "    return params,models"
   ]
  },
  {
   "cell_type": "code",
   "execution_count": 42,
   "metadata": {
    "collapsed": true
   },
   "outputs": [],
   "source": [
    "def feature_normalize(X):\n",
    "    X_mean = np.mean(X)\n",
    "    X_std = np.std(X)\n",
    "    X_norm = (X-X_mean)/X_std\n",
    "    \n",
    "    return X_norm"
   ]
  },
  {
   "cell_type": "code",
   "execution_count": 43,
   "metadata": {
    "collapsed": true
   },
   "outputs": [],
   "source": [
    "def compute_cost(params,models,hidden_layers,lambd):\n",
    "    m = params['X'].shape[0]\n",
    "      \n",
    "    J = np.sum( y*np.log(params['Y_hat']) + (1-y)*np.log(1-params['Y_hat']) )/-m\n",
    "    regularized_term = 0\n",
    "    for i in range(1,hidden_layers+2):\n",
    "        regularized_term += np.sum( np.power( models['W'+str(i)][:,1:] , 2 ) ) \n",
    "\n",
    "    J = J + (lambd/(2*m))*regularized_term\n",
    "\n",
    "    return J"
   ]
  },
  {
   "cell_type": "code",
   "execution_count": 44,
   "metadata": {
    "collapsed": true
   },
   "outputs": [],
   "source": [
    "def forward_propagation(params,models,hidden_layers):\n",
    "    \n",
    "    params['A1'] = params['X']\n",
    "    for i in range(1,hidden_layers+2):\n",
    "        params['A'+str(i)] = np.column_stack( (np.ones(( params['A'+str(i)].shape[0] , 1)) , params['A'+str(i)]) )\n",
    "        params['Z'+str(i+1)] = np.dot( params['A'+str(i)] , models['W'+str(i)].transpose()  )\n",
    "        params['A'+str(i+1)] = sigmoid( params['Z'+str(i+1)] )\n",
    "        \n",
    "    params['Y_hat'] = params['A'+str(hidden_layers+2)]\n",
    "    \n",
    "    return params"
   ]
  },
  {
   "cell_type": "code",
   "execution_count": 45,
   "metadata": {
    "collapsed": true
   },
   "outputs": [],
   "source": [
    "def backward_propagation(params,model,hidden_layers,lambd,alpha):\n",
    "    m = params['Y'].shape[0]\n",
    "    gradients = {}\n",
    "    gradients['delta'+str(hidden_layers+2)] = params['Y_hat'] - params['Y']\n",
    "\n",
    "    for i in range(hidden_layers+1,1,-1):\n",
    "        delta = gradients['delta'+str(i+1)]\n",
    "        if i == hidden_layers+1:\n",
    "            delta = delta.transpose()\n",
    "        gradients['delta'+str(i)] = np.dot( model['W'+str(i)][:,1:].transpose() , delta ) * \\\n",
    "            sigmoid_gradient(params['Z'+str(i)]).transpose()\n",
    "    \n",
    "    for i in range(1,hidden_layers+2):\n",
    "        delta = gradients['delta'+str(i+1)]\n",
    "        if i == hidden_layers+1:\n",
    "            delta = delta.transpose()\n",
    "\n",
    "        gradients['dW'+str(i)] = np.dot( delta , params['A'+str(i)] )/m + \\\n",
    "            (lambd/m)*np.column_stack( (np.zeros((model['W'+str(i)].shape[0],1)) , model['W'+str(i)][:,1:]) )\n",
    "        \n",
    "        model['W'+str(i)] -= alpha*gradients['dW'+str(i)] \n",
    "        \n",
    "    return params,model,gradients"
   ]
  },
  {
   "cell_type": "code",
   "execution_count": 46,
   "metadata": {
    "collapsed": true
   },
   "outputs": [],
   "source": [
    "def gradient_checking(params,models,gradients,epsilon,hidden_layers,lambd):\n",
    "    \n",
    "    parameters_values = dictionary_to_vector(models,hidden_layers)\n",
    "    grad = gradients_to_vector(gradients,hidden_layers)\n",
    "    num_parameters = parameters_values.shape[0]\n",
    "    J_plus = np.zeros((num_parameters, 1))\n",
    "    J_minus = np.zeros((num_parameters, 1))\n",
    "    gradapprox = np.zeros((num_parameters, 1))\n",
    "        \n",
    "    for i in range(num_parameters):       \n",
    "        thetaplus = np.copy(parameters_values)                                     \n",
    "        thetaplus[i] = thetaplus[i] + epsilon                                      \n",
    "        models = vector_to_dictionary(models,thetaplus,hidden_layers)\n",
    "        params= forward_propagation( params,models, hidden_layers)                                 \n",
    "        J_plus[i] = compute_cost(params,models,hidden_layers,lambd)\n",
    "        \n",
    "        thetaminus = np.copy(parameters_values)                                \n",
    "        thetaminus[i] = thetaminus[i] - epsilon                             \n",
    "        models = vector_to_dictionary(models,thetaminus,hidden_layers)\n",
    "        params= forward_propagation( params,models, hidden_layers)                                 \n",
    "        J_minus[i] = compute_cost(params,models,hidden_layers,lambd)                                  \n",
    "    \n",
    "        gradapprox[i] = (J_plus[i] - J_minus[i])/(2*epsilon)\n",
    "        thetaplus[i] = thetaplus[i] - epsilon \n",
    "    \n",
    "    numerator = np.power(grad - gradapprox,2)                                           \n",
    "    denominator = np.power(grad,2) + np.power(gradapprox,2)                                         \n",
    "    difference = numerator/(denominator+1e-8)                                        \n",
    "      \n",
    "    if difference.any() > 2e-4:\n",
    "        print (\"\\033[93m\" + \"There is may a mistake in the backward propagation! difference = \" + str(difference) + \"\\033[0m\")\n",
    "    else:\n",
    "        print (\"\\033[92m\" + \"Your backward propagation works perfectly fine! difference = \" + str(difference) + \"\\033[0m\")\n",
    "    \n",
    "    return gradapprox,difference   "
   ]
  },
  {
   "cell_type": "code",
   "execution_count": 47,
   "metadata": {
    "collapsed": true
   },
   "outputs": [],
   "source": [
    "def model(params,models,hidden_layers,hidden_size,lamdb,alpha,iter_times):\n",
    "  \n",
    "    J_history = []\n",
    "    for i in range(iter_times):    \n",
    "        params = forward_propagation(params,models,hidden_layers)\n",
    "        J = compute_cost(params,models,hidden_layers,lambd)\n",
    "        params,models,gradients = backward_propagation(params,models,hidden_layers,lambd=lambd,alpha=0.01)\n",
    "        \n",
    "        J_history.append(J)\n",
    "\n",
    "    \n",
    "    return models,J_history,gradients"
   ]
  },
  {
   "cell_type": "code",
   "execution_count": 48,
   "metadata": {
    "collapsed": true
   },
   "outputs": [],
   "source": [
    "def prediction(model,X,hidden_layers):\n",
    "    params = {}\n",
    "    params['X'] = X\n",
    "    res = forward_propagation(params,model,hidden_layers)\n",
    "    \n",
    "    Y_hat  = res['Y_hat']\n",
    "    predict = np.argmax(Y_hat,axis=1)\n",
    "    predict = np.array(predict).reshape( Y_hat.shape[0] ,1 )\n",
    "    \n",
    "    return predict"
   ]
  },
  {
   "cell_type": "code",
   "execution_count": 69,
   "metadata": {},
   "outputs": [
    {
     "data": {
      "image/png": "[encoded data removed]",
      "text/plain": [
       "<matplotlib.figure.Figure at 0xb3b7630>"
      ]
     },
     "metadata": {},
     "output_type": "display_data"
    },
    {
     "name": "stdout",
     "output_type": "stream",
     "text": [
      "time:0:00:01.062061\n"
     ]
    }
   ],
   "source": [
    "\"\"\"\n",
    "    初始化参数,训练model\n",
    "\"\"\"\n",
    "start = datetime.now()\n",
    "X,Y = read('2',2)\n",
    "\n",
    "poly = PolynomialFeatures(10)\n",
    "X = poly.fit_transform(X)\n",
    "\n",
    "X = feature_normalize(X)\n",
    "\n",
    "hidden_layers = 3\n",
    "K = [0,1,2,3]\n",
    "y = np.zeros( (X.shape[0] ,  len(K) ) )\n",
    "for i,j in enumerate(K):\n",
    "    y[:,i] = j\n",
    "y = y == Y\n",
    "\n",
    "hidden_size = [25,25,10,y.shape[1]]\n",
    "lambd = 0\n",
    "alpha = 0.5\n",
    "iter_times = 200\n",
    "epsilon = 1e-7\n",
    "params,models = initialization(X,y,hidden_layers,hidden_size)\n",
    "\n",
    "\n",
    "models,J_history,gradients  = model(params,models,hidden_layers = hidden_layers,hidden_size = hidden_size, lamdb = lambd\n",
    "                        ,alpha=alpha,iter_times=iter_times)\n",
    "#gradient_checking(params,models,gradients,epsilon,hidden_layers,lambd)\n",
    "plot_learning_curve(J_history)\n",
    "end = datetime.now()\n",
    "print('time:'+str(end-start))"
   ]
  },
  {
   "cell_type": "code",
   "execution_count": 70,
   "metadata": {},
   "outputs": [
    {
     "name": "stdout",
     "output_type": "stream",
     "text": [
      "accuracy:75.36231884057972 %\n"
     ]
    }
   ],
   "source": [
    "\"\"\"\n",
    "    在训练集上的效果\n",
    "\"\"\"\n",
    "predict = prediction(models,X,hidden_layers)\n",
    "res = predict == Y\n",
    "\n",
    "print('accuracy:{} %'.format( (np.sum(res)/res.shape[0])*100 ) )"
   ]
  },
  {
   "cell_type": "code",
   "execution_count": 71,
   "metadata": {},
   "outputs": [
    {
     "name": "stdout",
     "output_type": "stream",
     "text": [
      "accuracy:69.81132075471697 %\n"
     ]
    }
   ],
   "source": [
    "\"\"\"\n",
    "    在测试集上的效果\n",
    "\"\"\"\n",
    "test_X,test_Y = read('1',2)\n",
    "poly = PolynomialFeatures(10)\n",
    "test_X = poly.fit_transform(test_X)\n",
    "test_X = feature_normalize(test_X)\n",
    "predict = prediction(models,test_X,hidden_layers)\n",
    "res = predict == test_Y\n",
    "\n",
    "print('accuracy:{} %'.format( (np.sum(res)/res.shape[0])*100 ) )"
   ]
  },
  {
   "cell_type": "code",
   "execution_count": null,
   "metadata": {
    "collapsed": true
   },
   "outputs": [],
   "source": []
  }
 ],
 "metadata": {
  "kernelspec": {
   "display_name": "Python 3",
   "language": "python",
   "name": "python3"
  },
  "language_info": {
   "codemirror_mode": {
    "name": "ipython",
    "version": 3
   },
   "file_extension": ".py",
   "mimetype": "text/x-python",
   "name": "python",
   "nbconvert_exporter": "python",
   "pygments_lexer": "ipython3",
   "version": "3.6.3"
  }
 },
 "nbformat": 4,
 "nbformat_minor": 2
}
